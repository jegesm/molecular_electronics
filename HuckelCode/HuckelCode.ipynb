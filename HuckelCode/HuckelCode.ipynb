{
 "cells": [
  {
   "cell_type": "code",
   "execution_count": 1,
   "metadata": {},
   "outputs": [
    {
     "data": {
      "text/html": [
       "<script>\n",
       "code_show=true; \n",
       "function code_toggle() {\n",
       " if (code_show){\n",
       " jQuery('div.input').hide();\n",
       " } else {\n",
       " jQuery('div.input').show();\n",
       " }\n",
       " code_show = !code_show\n",
       "} \n",
       "jQuery( document ).ready(code_toggle);\n",
       "</script>\n",
       "<form action=\"javascript:code_toggle()\"><input type=\"submit\" value=\"Toggle code\"></form>"
      ],
      "text/plain": [
       "<IPython.core.display.HTML object>"
      ]
     },
     "execution_count": 1,
     "metadata": {},
     "output_type": "execute_result"
    }
   ],
   "source": [
    "from IPython.core.display import HTML\n",
    "HTML('''<script>\n",
    "code_show=true; \n",
    "function code_toggle() {\n",
    " if (code_show){\n",
    " jQuery('div.input').hide();\n",
    " } else {\n",
    " jQuery('div.input').show();\n",
    " }\n",
    " code_show = !code_show\n",
    "} \n",
    "jQuery( document ).ready(code_toggle);\n",
    "</script>\n",
    "<form action=\"javascript:code_toggle()\"><input type=\"submit\" value=\"Toggle code\"></form>''')"
   ]
  },
  {
   "cell_type": "markdown",
   "metadata": {},
   "source": [
    "# Huckel Code application\n",
    "\n",
    "In order to run the application, execute all cells from top to bottom by pressing __shift + enter__.\n",
    "\n",
    "You may interrupt execution by clicking on the __interrupt kernel__ button."
   ]
  },
  {
   "cell_type": "markdown",
   "metadata": {},
   "source": [
    "## Loading modules"
   ]
  },
  {
   "cell_type": "code",
   "execution_count": 1,
   "metadata": {
    "collapsed": true
   },
   "outputs": [],
   "source": [
    "import os\n",
    "import subprocess\n",
    "import time\n",
    "import fnmatch\n",
    "from subprocess import Popen, PIPE\n",
    "from IPython.display import display, clear_output, Image\n",
    "from ipywidgets import interact, interactive, fixed, interact_manual, Checkbox\n",
    "import ipywidgets as widgets\n",
    "from ipywidgets import Layout, Button, Box, FloatText, Textarea, Dropdown, Label, IntSlider, SelectMultiple, Checkbox, interactive, FloatRangeSlider, Accordion, HTML\n",
    "from IPython.display import display\n",
    "\n",
    "import matplotlib.pyplot as plt\n",
    "import numpy as np\n",
    "%matplotlib inline\n",
    "import gc\n",
    "\n",
    "from IPython.core.display import Image"
   ]
  },
  {
   "cell_type": "code",
   "execution_count": 2,
   "metadata": {
    "collapsed": true
   },
   "outputs": [],
   "source": [
    "#Group of checkboces for configuration properties\n",
    "distance_mx = Checkbox(\n",
    "    description=' ',\n",
    "    value=False\n",
    ")\n",
    "overlap_pop = Checkbox(\n",
    "    value=False,\n",
    "    description=' '\n",
    ")\n",
    "red_overlap_pop = Checkbox(\n",
    "    value=False,\n",
    "    description=' '\n",
    ")\n",
    "charge_mx = Checkbox(\n",
    "    value=False,\n",
    "    description=' '\n",
    ")\n",
    "wave_func = Checkbox(\n",
    "    value=False,\n",
    "    description=' '\n",
    ")\n",
    "net_charges = Checkbox(\n",
    "    value=False,\n",
    "    description=' '\n",
    ")\n",
    "overlap = Checkbox(\n",
    "    value=False,\n",
    "    description=' '\n",
    ")\n",
    "\n",
    "hamil = Checkbox(\n",
    "    value=False,\n",
    "    description=' '\n",
    ")\n",
    "\n",
    "electrostatic = Checkbox(\n",
    "    value=False,\n",
    "    description=' '\n",
    ")\n",
    "\n",
    "levels = Checkbox(\n",
    "    value=False,\n",
    "    description=' '\n",
    ")\n",
    "\n",
    "fermi = Checkbox(\n",
    "    value=False,\n",
    "    description=' '\n",
    ")\n",
    "\n",
    "orbital_energy = Checkbox(\n",
    "    value=False,\n",
    "    description=' '\n",
    ")\n",
    "\n",
    "orbital_coeff = Checkbox(\n",
    "    value=False,\n",
    "    description=' '\n",
    ")\n",
    "\n",
    "orbital_mapping = Checkbox(\n",
    "    value=False,\n",
    "    description=' '\n",
    ")\n",
    "\n",
    "dump_overlap = Checkbox(\n",
    "    value=False,\n",
    "    description=' '\n",
    ")\n",
    "\n",
    "dump_hamil = Checkbox(\n",
    "    value=False,\n",
    "    description=' '\n",
    ")\n",
    "\n",
    "dump_sparse = Checkbox(\n",
    "    value=False,\n",
    "    description=' '\n",
    ")\n",
    "\n",
    "dump_mm = Checkbox(\n",
    "    value=False,\n",
    "    description=' '\n",
    ")\n",
    "\n",
    "#List of property checkboxes\n",
    "all_checkboxes = [distance_mx, overlap_pop,red_overlap_pop, charge_mx,\n",
    "              wave_func,net_charges,overlap, hamil, electrostatic, \n",
    "                  levels, fermi,orbital_energy, orbital_coeff,\n",
    "              orbital_mapping,dump_overlap,dump_hamil, dump_sparse, dump_mm]\n",
    "\n",
    "#List of property labels\n",
    "all_labels = ['Distance matrix', 'Overlap population', 'Reduced overlap population', 'Charge matrix',\n",
    "             'Wave functions', 'Net charges', 'Overlap matrix', 'Hamiltonian matrix', 'Electrostatic',\n",
    "             'Levels', 'Fermi', 'Orbital energy', 'Orbital coefficient', 'Orbital mapping', 'Dump overlap',\n",
    "             'Dump Hamiltonian', 'Dump sparse', 'Dump Matrix Market']\n",
    "\n",
    "#List of property keywords\n",
    "all_properties = ['distance matrix', 'overlap population','reduced overlap population','charge matrix',\n",
    "                  'wave functions','net charges','overlap','hamil','electrostatic','levels','fermi',\n",
    "                  'orbital energy','orbital coeff','orbital mapping','dump overlap',\n",
    "                  'dump hamil','dump sparse','dump matrix market']\n",
    "\n",
    "firstgroup = [distance_mx, overlap_pop,red_overlap_pop, charge_mx,\n",
    "              wave_func,net_charges,overlap, hamil, electrostatic]\n",
    "\n",
    "\n",
    "secondgroup = [levels, fermi,orbital_energy, orbital_coeff,\n",
    "              orbital_mapping,dump_overlap,dump_hamil, dump_sparse]\n"
   ]
  },
  {
   "cell_type": "code",
   "execution_count": 3,
   "metadata": {
    "collapsed": true
   },
   "outputs": [],
   "source": [
    "#Function for creating input\n",
    "def createinput( arg1, arg2 ):\n",
    "    process = Popen([\"./input_pdb\", arg1, arg2], stdout=subprocess.PIPE, stderr=subprocess.PIPE)\n",
    "    (output, err) = process.communicate()\n",
    "    exit_code = process.wait()\n",
    "    if err ==  b'':\n",
    "        print('Creation of input file was successful')\n",
    "        return\n",
    "    else:\n",
    "        return err.strip()\n",
    "\n",
    "#Function for calculations\n",
    "def huckel(arg):\n",
    "    process = Popen([\"./bind\", arg], stdout=subprocess.PIPE, stderr=subprocess.PIPE)\n",
    "    (output, err) = process.communicate()\n",
    "    exit_code = process.wait()\n",
    "    if err ==  b'':\n",
    "        print('Extended Huckel calculations were successful')\n",
    "        return\n",
    "    else:\n",
    "        return err"
   ]
  },
  {
   "cell_type": "markdown",
   "metadata": {},
   "source": [
    "## Please specify input file names\n",
    "_If non-existent, configfile will be written function based on user input of the checkboxes by running cell containing ``writeconfigfile()``_"
   ]
  },
  {
   "cell_type": "code",
   "execution_count": 4,
   "metadata": {
    "scrolled": true
   },
   "outputs": [
    {
     "name": "stdout",
     "output_type": "stream",
     "text": [
      "Molecule filename: 1bna.pdb\n",
      "Configuration filename: config.txt\n"
     ]
    }
   ],
   "source": [
    "molFileName = input(\"Molecule filename: \")\n",
    "configFileName = input(\"Configuration filename: \")\n",
    "molName = molFileName[:molFileName.find('.')]\n",
    "yahFileName= molName + '.yah'"
   ]
  },
  {
   "cell_type": "code",
   "execution_count": 5,
   "metadata": {
    "collapsed": true
   },
   "outputs": [],
   "source": [
    "#Layout for showing the checkboxes of configuration options\n",
    "label_layout = Layout()\n",
    "\n",
    "form_item_layout = Layout(\n",
    "    display='flex',\n",
    "    flex_flow='row',\n",
    "    justify_content='space-between',\n",
    "#     width='50%'\n",
    ")\n",
    "\n",
    "form_mainlabel_layout = Layout(width='180px')\n",
    "\n",
    "form_items = [Box([HTML('<b><font size=\"4\">Please set configuration parameters by clicking the checkboxes below:</font></b>')])]\n",
    "\n",
    "if (len(all_checkboxes)%2 == 0):\n",
    "    for cb_index in range(int(np.ceil(len(all_checkboxes)/2))):\n",
    "        form_items.append(Box([Label(value=all_labels[cb_index], layout=form_mainlabel_layout), all_checkboxes[cb_index], Label(value=all_labels[cb_index+int(np.ceil(len(all_checkboxes)/2))], layout=form_mainlabel_layout), all_checkboxes[cb_index+int(np.ceil(len(all_checkboxes)/2))]], layout=form_item_layout))\n",
    "else:\n",
    "    for cb_index in range(int(np.floor(len(all_checkboxes)/2))):\n",
    "        form_items.append(Box([Label(value=all_labels[cb_index], layout=form_mainlabel_layout), all_checkboxes[cb_index], Label(value=all_labels[cb_index+int(np.ceil(len(all_checkboxes)/2))], layout=form_mainlabel_layout), all_checkboxes[cb_index+int(np.ceil(len(all_checkboxes)/2))]], layout=form_item_layout))\n",
    "    form_items.append(Box([Label(value=all_labels[cb_index+1], layout=form_mainlabel_layout), all_checkboxes[cb_index+1]], layout=form_item_layout))\n",
    "\n",
    "form = Box(form_items, layout=Layout(\n",
    "    display='flex',\n",
    "    flex_flow='column',\n",
    "    align_items='flex-start',\n",
    "    width='70%'\n",
    "))"
   ]
  },
  {
   "cell_type": "code",
   "execution_count": 6,
   "metadata": {
    "collapsed": true
   },
   "outputs": [],
   "source": [
    "#Function for creating config file\n",
    "def writeconfigfile():\n",
    "    f = open(configFileName, 'w')\n",
    "    f.write('molecule name='+ molName + '\\n')\n",
    "    for cb_index in range(len(all_checkboxes)):\n",
    "        if all_checkboxes[cb_index].value == True:\n",
    "            f.write(all_properties[cb_index]+'=true\\n')\n",
    "        else:\n",
    "            f.write(all_properties[cb_index]+'=false\\n')\n",
    "    f.close()"
   ]
  },
  {
   "cell_type": "code",
   "execution_count": 8,
   "metadata": {},
   "outputs": [
    {
     "data": {
      "application/vnd.jupyter.widget-view+json": {
       "model_id": "5796ed8dcdd241d1a5d2164367bbf651"
      }
     },
     "metadata": {},
     "output_type": "display_data"
    }
   ],
   "source": [
    "#If not using a configuration file that was created before, use the following checkboxes\n",
    "#and then uncomment the cell containing the writeconfigfile function\n",
    "#Parameters of the configuration file\n",
    "#You may have to execute cell after selection once more\n",
    "display(form)"
   ]
  },
  {
   "cell_type": "code",
   "execution_count": 9,
   "metadata": {
    "collapsed": true
   },
   "outputs": [],
   "source": [
    "#Use the following line if specific configuration file is to be created\n",
    "writeconfigfile()"
   ]
  },
  {
   "cell_type": "markdown",
   "metadata": {},
   "source": [
    "# Creating input file"
   ]
  },
  {
   "cell_type": "code",
   "execution_count": 10,
   "metadata": {},
   "outputs": [
    {
     "name": "stdout",
     "output_type": "stream",
     "text": [
      "Creation of input file was successful\n"
     ]
    }
   ],
   "source": [
    "createinput(molFileName,configFileName)"
   ]
  },
  {
   "cell_type": "markdown",
   "metadata": {},
   "source": [
    "# Printing content of result file"
   ]
  },
  {
   "cell_type": "code",
   "execution_count": 11,
   "metadata": {},
   "outputs": [
    {
     "name": "stdout",
     "output_type": "stream",
     "text": [
      "1bna\n",
      "Molecular\n",
      "Geometry\n",
      "566\n",
      "O 18.935 34.195 25.617\n",
      "C 19.13 33.921 24.219\n",
      "C 19.961 32.668 24.1\n",
      "O 19.36 31.583 24.852\n",
      "C 20.172 32.122 22.694\n",
      "O 21.35 31.325 22.681\n",
      "...\n",
      "O 14.292 25.159 2.287\n",
      "O 9.396 27.092 16.993\n",
      "O 19.987 21.691 6.802\n",
      "O 18.692 31.584 4.596\n",
      "Charge\n",
      "0\n",
      "\n",
      ";Printing options\n",
      "Print\n",
      "distance matrix\n",
      "orbital mapping\n",
      "End_Print \n",
      "\n",
      "dump overlap\n",
      "dump sparse\n"
     ]
    }
   ],
   "source": [
    "%%bash -s \"$yahFileName\"\n",
    "head $1\n",
    "echo '...'\n",
    "tail -n 15 $1"
   ]
  },
  {
   "cell_type": "markdown",
   "metadata": {},
   "source": [
    "# Running extended Hückel calculations"
   ]
  },
  {
   "cell_type": "code",
   "execution_count": 12,
   "metadata": {},
   "outputs": [
    {
     "name": "stdout",
     "output_type": "stream",
     "text": [
      "Extended Huckel calculations were successful\n"
     ]
    }
   ],
   "source": [
    "huckel(yahFileName)"
   ]
  }
 ],
 "metadata": {
  "celltoolbar": "Raw Cell Format",
  "kernelspec": {
   "display_name": "Python 3",
   "language": "python",
   "name": "python3"
  },
  "language_info": {
   "codemirror_mode": {
    "name": "ipython",
    "version": 3
   },
   "file_extension": ".py",
   "mimetype": "text/x-python",
   "name": "python",
   "nbconvert_exporter": "python",
   "pygments_lexer": "ipython3",
   "version": "3.5.2"
  }
 },
 "nbformat": 4,
 "nbformat_minor": 2
}
